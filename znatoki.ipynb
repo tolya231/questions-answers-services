{
 "cells": [
  {
   "cell_type": "code",
   "execution_count": 1,
   "metadata": {},
   "outputs": [],
   "source": [
    "PAGE_SIZE = 100"
   ]
  },
  {
   "cell_type": "code",
   "execution_count": 3,
   "metadata": {},
   "outputs": [],
   "source": [
    "from urllib.request import urlopen\n",
    "import json\n",
    "\n",
    "#get number of pages\n",
    "count_response = urlopen('https://yandex.ru/znatoki/api/v2/questions??page_size=1')\n",
    "count = json.loads(count_response.read())['count']"
   ]
  },
  {
   "cell_type": "code",
   "execution_count": 4,
   "metadata": {},
   "outputs": [],
   "source": [
    "def prosess_question(question):\n",
    "    return {key: question[key] for key in ('id', 'created', 'tags', 'title', 'text', 'updated', 'votes', 'answersCount', 'previewAnswer', 'author')}"
   ]
  },
  {
   "cell_type": "code",
   "execution_count": 5,
   "metadata": {},
   "outputs": [],
   "source": [
    "#get all questions\n",
    "all_questions = {}\n",
    "for i in range(0,count // PAGE_SIZE):\n",
    "    questions_response = urlopen('https://yandex.ru/znatoki/api/v2/questions?page={}&page_size=100'.format(i))\n",
    "    questions_results = json.loads(questions_response.read().decode('utf-8'))['results']\n",
    "    for j in range(0, len(questions_results)):\n",
    "        all_questions.update({questions_results[j]['id']: prosess_question(questions_results[j])})"
   ]
  },
  {
   "cell_type": "code",
   "execution_count": null,
   "metadata": {},
   "outputs": [],
   "source": [
    "with open('dict.json', 'w') as f:\n",
    "    for chunk in json.JSONEncoder().iterencode(all_questions):\n",
    "        f.write(chunk)"
   ]
  }
 ],
 "metadata": {
  "kernelspec": {
   "display_name": "Python 3",
   "language": "python",
   "name": "python3"
  },
  "language_info": {
   "codemirror_mode": {
    "name": "ipython",
    "version": 3
   },
   "file_extension": ".py",
   "mimetype": "text/x-python",
   "name": "python",
   "nbconvert_exporter": "python",
   "pygments_lexer": "ipython3",
   "version": "3.7.3"
  }
 },
 "nbformat": 4,
 "nbformat_minor": 2
}
