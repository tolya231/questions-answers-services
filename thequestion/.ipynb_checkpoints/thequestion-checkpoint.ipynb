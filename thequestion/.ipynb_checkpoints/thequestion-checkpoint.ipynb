{
 "cells": [
  {
   "cell_type": "code",
   "execution_count": 1,
   "metadata": {},
   "outputs": [],
   "source": [
    "import pandas as pd\n",
    "import pandas_profiling\n",
    "import numpy as np\n",
    "import json\n",
    "from pymystem3 import Mystem\n",
    "from urllib.request import urlopen\n",
    "from pandas.io.json import json_normalize\n",
    "import collections\n",
    "import ast"
   ]
  },
  {
   "cell_type": "code",
   "execution_count": null,
   "metadata": {},
   "outputs": [],
   "source": [
    "#get number of pages\n",
    "COUNT = 493616\n",
    "for i in range(493616, 50000):\n",
    "    try:\n",
    "        count_response = urlopen('http://api.thequestion.ru/api/questions/{}'.format(i))\n",
    "        count = i\n",
    "    except:\n",
    "        pass"
   ]
  },
  {
   "cell_type": "code",
   "execution_count": 2,
   "metadata": {},
   "outputs": [],
   "source": [
    "COUNT = 494000"
   ]
  },
  {
   "cell_type": "code",
   "execution_count": 3,
   "metadata": {},
   "outputs": [],
   "source": [
    "def process_question(question):\n",
    "    data = {key: question.get(key) for key in ('id', 'title', 'mainTopicIds', 'topicIds', 'createdAt', 'updatedAt', 'best', 'bestAnswerId', 'totalAnswers', 'totalFollowers', 'totalLikes', 'totalViews', )} \n",
    "        \n",
    "    data['author_name'] = question['account'].get('firstName')\n",
    "    data['author_gender'] = question['account'].get('gender')\n",
    "    data['author_rating'] = question['account'].get('rating')\n",
    "    data['author_total_answers'] = question['account'].get('totalAnswers')\n",
    "    data['author_total_questions'] = question['account'].get('totalQuestions')\n",
    "    data['author_total_answered_questions'] = question['account'].get('totalAnsweredQuestions')\n",
    "    try:\n",
    "        topic_titles = []\n",
    "        topics = question['topics']\n",
    "        for topic in topics:\n",
    "            topic_titles.append(topic['title'])\n",
    "    except:\n",
    "        pass\n",
    "    return data"
   ]
  },
  {
   "cell_type": "code",
   "execution_count": null,
   "metadata": {},
   "outputs": [
    {
     "name": "stdout",
     "output_type": "stream",
     "text": [
      "HTTP Error 404: Not Found\n",
      "HTTP Error 404: Not Found\n"
     ]
    }
   ],
   "source": [
    "#get all questions\n",
    "all_questions = {}\n",
    "with open('questions.jsonl', 'w') as outfile:\n",
    "    for i in range(1, COUNT + 1):\n",
    "        try:\n",
    "            questions_response = urlopen('http://api.thequestion.ru/api/questions/{}'.format(i))\n",
    "            question_result = json.loads(questions_response.read().decode('utf-8'))\n",
    "            json.dump(process_question(question_result), outfile)\n",
    "            outfile.write('\\n')\n",
    "        except Exception as exception:\n",
    "            print(exception)\n",
    "        print(i)"
   ]
  },
  {
   "cell_type": "code",
   "execution_count": null,
   "metadata": {},
   "outputs": [],
   "source": [
    "questions_df = pd.DataFrame()\n",
    "questions = []\n",
    "with open('questions.jsonl', 'r') as f:\n",
    "    for question in f:\n",
    "        json_normalized_question = json_normalize(json.loads(question))\n",
    "        questions.append(json_normalized_question)\n",
    "questions_df = questions_df.append(questions)"
   ]
  },
  {
   "cell_type": "code",
   "execution_count": null,
   "metadata": {},
   "outputs": [],
   "source": [
    "df.to_csv(index=False, path_or_buf='df.csv')"
   ]
  }
 ],
 "metadata": {
  "kernelspec": {
   "display_name": "Python 3",
   "language": "python",
   "name": "python3"
  },
  "language_info": {
   "codemirror_mode": {
    "name": "ipython",
    "version": 3
   },
   "file_extension": ".py",
   "mimetype": "text/x-python",
   "name": "python",
   "nbconvert_exporter": "python",
   "pygments_lexer": "ipython3",
   "version": "3.6.4"
  }
 },
 "nbformat": 4,
 "nbformat_minor": 2
}
